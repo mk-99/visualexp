{
 "cells": [
  {
   "cell_type": "code",
   "execution_count": null,
   "metadata": {},
   "outputs": [],
   "source": [
    "import pandas as pd\n",
    "import matplotlib.pyplot as plt\n",
    "\n",
    "raw_data = pd.read_csv('https://raw.githubusercontent.com/datasets/covid-19/master/data/time-series-19-covid-combined.csv')\n",
    "data = raw_data[['Date', 'Country/Region', 'Province/State', 'Confirmed', 'Recovered', 'Deaths']]\n",
    "pd.set_option('mode.chained_assignment', None)\n",
    "data['Actual'] = data['Confirmed'] - data['Recovered'] - data['Deaths']\n",
    "data['Diff'] = data['Actual'].diff()"
   ]
  },
  {
   "cell_type": "code",
   "execution_count": null,
   "metadata": {},
   "outputs": [],
   "source": [
    "countries = list(data.groupby(['Country/Region']).groups)\n",
    "countries_grouped = data.groupby(['Country/Region', 'Date'])\n",
    "sum_countries = countries_grouped.sum()"
   ]
  },
  {
   "cell_type": "code",
   "execution_count": null,
   "metadata": {},
   "outputs": [],
   "source": [
    "# fig = plt.figure()\n",
    "# ax = plt.axes()\n",
    "#plt.grid(b=True, color='aqua', alpha=0.3, linestyle='-', linewidth=2)\n",
    "\n",
    "for c in countries:\n",
    "    one_country = sum_countries.loc[c]['Diff'][1:]\n",
    "    if one_country.max() > 100:\n",
    "        print(c)\n",
    "        one_country.plot(figsize=(12, 8))\n",
    "        plt.show()"
   ]
  },
  {
   "cell_type": "code",
   "execution_count": null,
   "metadata": {},
   "outputs": [],
   "source": []
  }
 ],
 "metadata": {
  "kernelspec": {
   "display_name": "Python 3",
   "language": "python",
   "name": "python3"
  },
  "language_info": {
   "codemirror_mode": {
    "name": "ipython",
    "version": 3
   },
   "file_extension": ".py",
   "mimetype": "text/x-python",
   "name": "python",
   "nbconvert_exporter": "python",
   "pygments_lexer": "ipython3",
   "version": "3.8.1"
  }
 },
 "nbformat": 4,
 "nbformat_minor": 4
}
